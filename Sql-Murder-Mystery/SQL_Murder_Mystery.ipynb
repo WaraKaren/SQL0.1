{
  "cells": [
    {
      "cell_type": "markdown",
      "metadata": {
        "id": "view-in-github",
        "colab_type": "text"
      },
      "source": [
        "<a href=\"https://colab.research.google.com/github/WaraKaren/SQL0.1/blob/main/Sql-Murder-Mystery/SQL_Murder_Mystery.ipynb\" target=\"_parent\"><img src=\"https://colab.research.google.com/assets/colab-badge.svg\" alt=\"Open In Colab\"/></a>"
      ]
    },
    {
      "cell_type": "markdown",
      "metadata": {
        "id": "-L5Nb8SkizXv"
      },
      "source": [
        "<a href=\"https://colab.research.google.com/github/icarito/UPSK-SQL001-SQLZoo-murder/blob/sql-murder/Sql-Murder-Mystery/SQL_Murder_Mystery.ipynb\" target=\"_parent\"><img src=\"https://colab.research.google.com/assets/colab-badge.svg\" alt=\"Open In Colab\"/></a>"
      ]
    },
    {
      "cell_type": "markdown",
      "metadata": {
        "id": "ZbLp7m-_OzAR"
      },
      "source": [
        "# SQL Murder Mystery!\n",
        "Adapted By: Martin Arroyo\n",
        "\n",
        "![Detective making connections between points](https://github.com/freestackinitiative/coop_sql_notebooks/blob/main/assets/sleuth.png?raw=1)\n",
        "\n",
        "**Credit**\n",
        "\n",
        "This material was adapted from the [SQL Murder Mystery by Knight Lab](https://mystery.knightlab.com/) under [Creative Commons CC BY-SA 4.0](https://creativecommons.org/licenses/by-sa/4.0/). The SQL Murder Mystery was originally created by [Joon Park](https://twitter.com/joonparkmusic) and [Cathy He](https://twitter.com/Cathy_MeiyingHe) while they were Knight Lab fellows. See the [GitHub repository](https://github.com/NUKnightLab/sql-mysteries) for more information."
      ]
    },
    {
      "cell_type": "markdown",
      "metadata": {
        "id": "HGOgX8grOzAV"
      },
      "source": [
        "## Escenario\n",
        "\n",
        "¡Se ha cometido un crimen y los detectives necesitan tu ayuda! Te dieron el informe de la escena del crimen, pero de alguna manera lo perdiste. Recuerdas vagamente que el crimen fue un `murder` _(asesinato)_ que ocurrió en algún momento el 15 de Enero de 2018 y que tuvo lugar en `SQL City`. Depende de ti averiguar quién es el asesino usando solo tus habilidades en SQL y tu ingenio. Te proporcionan una conexión a la base de datos del Departamento de Policía, que tiene todas las pistas que necesitarás para atrapar al asesino.\n",
        "\n",
        "Usa las habilidades que desarrollaste en SQL 101 y 102, junto con cualquier recurso que desees, para resolver el `SQL Murder Mystery`!\""
      ]
    },
    {
      "cell_type": "markdown",
      "metadata": {
        "id": "vuIkw8FgOzAW"
      },
      "source": [
        "## Conéctate a la base de datos del Departamento de Policía\n",
        "\n",
        "Para comenzar y ejecutar tus consultas, presiona play en la celda de abajo para conectarte a la base de datos del Departamento de Policía.\n",
        "\n",
        "Para ejecutar consultas, crea una nueva celda de `Code` y escribe `%%sql` en la parte superior. Luego puedes escribir tus consultas debajo. Ve el ejemplo a continuación:\n",
        "```python\n",
        "%%sql\n",
        "\n",
        "SELECT *\n",
        "FROM table\n",
        "\n",
        "```"
      ]
    },
    {
      "cell_type": "code",
      "execution_count": null,
      "metadata": {
        "id": "1rDnqg9TOzAW"
      },
      "outputs": [],
      "source": [
        "%%capture\n",
        "# @title Press Play { display-mode: \"form\" }\n",
        "# Install `teachdb` and `coop_grader`\n",
        "print(\"Installing `teachdb` and its dependencies...\")\n",
        "!pip install --quiet --upgrade git+https://github.com/freestackinitiative/teachingdb.git git+https://github.com/martinmarroyo/coop_grader.git\n",
        "print(\"Successfully installed `teachdb`\")\n",
        "import pandas as pd\n",
        "from teachdb.teachdb import connect_teachdb\n",
        "from coop_grader.sql_murder_mystery.check_suspect import check_suspect\n",
        "# Set configurations for notebook\n",
        "%load_ext sql\n",
        "%config SqlMagic.autopandas = True\n",
        "%config SqlMagic.feedback = False\n",
        "%config SqlMagic.displaycon = False\n",
        "pd.set_option('display.max_rows', None)\n",
        "pd.set_option('display.max_columns', None)\n",
        "pd.set_option('display.width', None)\n",
        "pd.set_option('display.max_colwidth', 99)\n",
        "# Load data\n",
        "con = connect_teachdb(database=\"sql_murder_mystery\")\n",
        "\n",
        "%sql con"
      ]
    },
    {
      "cell_type": "markdown",
      "metadata": {
        "id": "tcgs_qpWOzAX"
      },
      "source": [
        "## Descubriendo tablas en la base de datos\n",
        "\n",
        "Comenzamos nuestra búsqueda para encontrar al asesino explorando la base de datos del Departamento de Policía. Pero aún no has visto la base de datos y no sabes cuáles son las tablas, así que, ¿cómo sabes qué buscar?\n",
        "\n",
        "Afortunadamente, la mayoría de los sistemas de gestión de bases de datos relacionales tienen esta información almacenada en un lugar donde puedes consultarla. Muy a menudo, se utiliza un esquema especial conocido como [`information_schema`](https://en.wikipedia.org/wiki/Information_schema) para almacenar información sobre las tablas y columnas en tu base de datos (también conocido como metadata). La base de datos del Departamento de Policía tiene un information schema, con la vista `tables` que te muestra qué tablas están disponibles, y la vista `columns` que te muestra todas las columnas de cada tabla y sus tipos de datos."
      ]
    },
    {
      "cell_type": "markdown",
      "metadata": {
        "id": "3E1X2M3uOzAX"
      },
      "source": [
        "### Listando todas las tablas en la base de datos de la Policía\n",
        "\n",
        "#### Revisa la [descripción de `information_schema.tables`](https://duckdb.org/docs/sql/information_schema.html#tables-and-views)\n",
        "\n",
        "Primero, veremos todas las tablas disponibles para nosotros consultando la vista `information_schema.tables`. Te daremos la primera consulta para empezar, pero de aquí en adelante tendrás que idear las consultas restantes utilizando tu conocimiento de SQL y tu ingenio.\n",
        "\n",
        "Aquí está la consulta necesaria para mostrarte las tablas en la base de datos del Departamento de Policía. Cópiala/Pégala en la celda de abajo y ejecútala para ver las tablas disponibles para ti:\n",
        "\n",
        ">```sql\n",
        ">SELECT *\n",
        ">FROM information_schema.tables\n",
        ">```"
      ]
    },
    {
      "cell_type": "code",
      "execution_count": null,
      "metadata": {
        "id": "pIkeU5liOzAY",
        "outputId": "a89b2e98-4a79-450a-f3e0-85a00181bae7"
      },
      "outputs": [
        {
          "data": {
            "text/html": [
              "<div>\n",
              "<style scoped>\n",
              "    .dataframe tbody tr th:only-of-type {\n",
              "        vertical-align: middle;\n",
              "    }\n",
              "\n",
              "    .dataframe tbody tr th {\n",
              "        vertical-align: top;\n",
              "    }\n",
              "\n",
              "    .dataframe thead th {\n",
              "        text-align: right;\n",
              "    }\n",
              "</style>\n",
              "<table border=\"1\" class=\"dataframe\">\n",
              "  <thead>\n",
              "    <tr style=\"text-align: right;\">\n",
              "      <th></th>\n",
              "      <th>table_catalog</th>\n",
              "      <th>table_schema</th>\n",
              "      <th>table_name</th>\n",
              "      <th>table_type</th>\n",
              "      <th>self_referencing_column_name</th>\n",
              "      <th>reference_generation</th>\n",
              "      <th>user_defined_type_catalog</th>\n",
              "      <th>user_defined_type_schema</th>\n",
              "      <th>user_defined_type_name</th>\n",
              "      <th>is_insertable_into</th>\n",
              "      <th>is_typed</th>\n",
              "      <th>commit_action</th>\n",
              "      <th>TABLE_COMMENT</th>\n",
              "    </tr>\n",
              "  </thead>\n",
              "  <tbody>\n",
              "    <tr>\n",
              "      <th>0</th>\n",
              "      <td>memory</td>\n",
              "      <td>main</td>\n",
              "      <td>crime_scene_report</td>\n",
              "      <td>BASE TABLE</td>\n",
              "      <td>None</td>\n",
              "      <td>None</td>\n",
              "      <td>None</td>\n",
              "      <td>None</td>\n",
              "      <td>None</td>\n",
              "      <td>YES</td>\n",
              "      <td>NO</td>\n",
              "      <td>None</td>\n",
              "      <td>None</td>\n",
              "    </tr>\n",
              "    <tr>\n",
              "      <th>1</th>\n",
              "      <td>memory</td>\n",
              "      <td>main</td>\n",
              "      <td>drivers_license</td>\n",
              "      <td>BASE TABLE</td>\n",
              "      <td>None</td>\n",
              "      <td>None</td>\n",
              "      <td>None</td>\n",
              "      <td>None</td>\n",
              "      <td>None</td>\n",
              "      <td>YES</td>\n",
              "      <td>NO</td>\n",
              "      <td>None</td>\n",
              "      <td>None</td>\n",
              "    </tr>\n",
              "    <tr>\n",
              "      <th>2</th>\n",
              "      <td>memory</td>\n",
              "      <td>main</td>\n",
              "      <td>facebook_event_checkin</td>\n",
              "      <td>BASE TABLE</td>\n",
              "      <td>None</td>\n",
              "      <td>None</td>\n",
              "      <td>None</td>\n",
              "      <td>None</td>\n",
              "      <td>None</td>\n",
              "      <td>YES</td>\n",
              "      <td>NO</td>\n",
              "      <td>None</td>\n",
              "      <td>None</td>\n",
              "    </tr>\n",
              "    <tr>\n",
              "      <th>3</th>\n",
              "      <td>memory</td>\n",
              "      <td>main</td>\n",
              "      <td>get_fit_now_check_in</td>\n",
              "      <td>BASE TABLE</td>\n",
              "      <td>None</td>\n",
              "      <td>None</td>\n",
              "      <td>None</td>\n",
              "      <td>None</td>\n",
              "      <td>None</td>\n",
              "      <td>YES</td>\n",
              "      <td>NO</td>\n",
              "      <td>None</td>\n",
              "      <td>None</td>\n",
              "    </tr>\n",
              "    <tr>\n",
              "      <th>4</th>\n",
              "      <td>memory</td>\n",
              "      <td>main</td>\n",
              "      <td>get_fit_now_member</td>\n",
              "      <td>BASE TABLE</td>\n",
              "      <td>None</td>\n",
              "      <td>None</td>\n",
              "      <td>None</td>\n",
              "      <td>None</td>\n",
              "      <td>None</td>\n",
              "      <td>YES</td>\n",
              "      <td>NO</td>\n",
              "      <td>None</td>\n",
              "      <td>None</td>\n",
              "    </tr>\n",
              "    <tr>\n",
              "      <th>5</th>\n",
              "      <td>memory</td>\n",
              "      <td>main</td>\n",
              "      <td>income</td>\n",
              "      <td>BASE TABLE</td>\n",
              "      <td>None</td>\n",
              "      <td>None</td>\n",
              "      <td>None</td>\n",
              "      <td>None</td>\n",
              "      <td>None</td>\n",
              "      <td>YES</td>\n",
              "      <td>NO</td>\n",
              "      <td>None</td>\n",
              "      <td>None</td>\n",
              "    </tr>\n",
              "    <tr>\n",
              "      <th>6</th>\n",
              "      <td>memory</td>\n",
              "      <td>main</td>\n",
              "      <td>interview</td>\n",
              "      <td>BASE TABLE</td>\n",
              "      <td>None</td>\n",
              "      <td>None</td>\n",
              "      <td>None</td>\n",
              "      <td>None</td>\n",
              "      <td>None</td>\n",
              "      <td>YES</td>\n",
              "      <td>NO</td>\n",
              "      <td>None</td>\n",
              "      <td>None</td>\n",
              "    </tr>\n",
              "    <tr>\n",
              "      <th>7</th>\n",
              "      <td>memory</td>\n",
              "      <td>main</td>\n",
              "      <td>person</td>\n",
              "      <td>BASE TABLE</td>\n",
              "      <td>None</td>\n",
              "      <td>None</td>\n",
              "      <td>None</td>\n",
              "      <td>None</td>\n",
              "      <td>None</td>\n",
              "      <td>YES</td>\n",
              "      <td>NO</td>\n",
              "      <td>None</td>\n",
              "      <td>None</td>\n",
              "    </tr>\n",
              "  </tbody>\n",
              "</table>\n",
              "</div>"
            ],
            "text/plain": [
              "  table_catalog table_schema              table_name  table_type  \\\n",
              "0        memory         main      crime_scene_report  BASE TABLE   \n",
              "1        memory         main         drivers_license  BASE TABLE   \n",
              "2        memory         main  facebook_event_checkin  BASE TABLE   \n",
              "3        memory         main    get_fit_now_check_in  BASE TABLE   \n",
              "4        memory         main      get_fit_now_member  BASE TABLE   \n",
              "5        memory         main                  income  BASE TABLE   \n",
              "6        memory         main               interview  BASE TABLE   \n",
              "7        memory         main                  person  BASE TABLE   \n",
              "\n",
              "  self_referencing_column_name reference_generation user_defined_type_catalog  \\\n",
              "0                         None                 None                      None   \n",
              "1                         None                 None                      None   \n",
              "2                         None                 None                      None   \n",
              "3                         None                 None                      None   \n",
              "4                         None                 None                      None   \n",
              "5                         None                 None                      None   \n",
              "6                         None                 None                      None   \n",
              "7                         None                 None                      None   \n",
              "\n",
              "  user_defined_type_schema user_defined_type_name is_insertable_into is_typed  \\\n",
              "0                     None                   None                YES       NO   \n",
              "1                     None                   None                YES       NO   \n",
              "2                     None                   None                YES       NO   \n",
              "3                     None                   None                YES       NO   \n",
              "4                     None                   None                YES       NO   \n",
              "5                     None                   None                YES       NO   \n",
              "6                     None                   None                YES       NO   \n",
              "7                     None                   None                YES       NO   \n",
              "\n",
              "  commit_action TABLE_COMMENT  \n",
              "0          None          None  \n",
              "1          None          None  \n",
              "2          None          None  \n",
              "3          None          None  \n",
              "4          None          None  \n",
              "5          None          None  \n",
              "6          None          None  \n",
              "7          None          None  "
            ]
          },
          "execution_count": 5,
          "metadata": {},
          "output_type": "execute_result"
        }
      ],
      "source": [
        "%%sql\n",
        "SELECT *\n",
        "FROM information_schema.tables"
      ]
    },
    {
      "cell_type": "markdown",
      "metadata": {
        "id": "UWUUDSB1OzAY"
      },
      "source": [
        "### Listando todas las tablas y sus columnas en la base de datos de la Policía\n",
        "\n",
        "**Revisa la [descripción de `information_schema.columns`](https://duckdb.org/docs/sql/information_schema.html#columns)**\n",
        "\n",
        "¡Genial! Ahora que sabes qué tablas están disponibles, es hora de averiguar las columnas que tiene cada tabla junto con el tipo de datos de cada columna. Escribe una consulta que muestre el nombre de la tabla, el nombre de la columna y el tipo de datos para cada tabla en la base de datos del Departamento de Policía utilizando la vista `information_schema.columns`. Asegúrate de que la salida esté ordenada por nombre de tabla y luego por nombre de columna (ascendente):\n",
        "\n",
        "*Pistas opcionales - ¡intenta usarlas solo si te quedas **REALMENTE** atascado!*\n",
        "\n",
        "<details>\n",
        "<summary>Pista 1</summary>\n",
        "<p>Estructura tu consulta de la misma manera que lo hicimos en la consulta anterior donde miramos `information_schema.tables`</p>\n",
        "</details>\n",
        "\n",
        "<details>\n",
        "<summary>Pista 2</summary>\n",
        "<p>Asegúrate de revisar el enlace para la descripción de information_schema.columns. Te dirá los nombres de las columnas que debes usar para la consulta. Recuerda, queremos el nombre de la tabla, el nombre de la columna y el tipo de datos - ¡revisa la descripción para encontrar los nombres apropiados!</p>\n",
        "</details>\n",
        "\n",
        "<details>\n",
        "<summary>Pista 3</summary>\n",
        "<p>No olvides usar la declaración ORDER BY para ordenar los resultados de tu búsqueda. Estamos buscando ordenar ambas columnas en orden ascendente, lo cual se puede especificar usando la palabra clave ASC, sin embargo, también es el orden de clasificación predeterminado, por lo que ASC no es necesariamente requerido.</p>\n",
        "</details>"
      ]
    },
    {
      "cell_type": "code",
      "execution_count": null,
      "metadata": {
        "id": "lmmneIBrOzAY",
        "outputId": "81466eef-52c5-47a6-8c03-9a971b46b21c"
      },
      "outputs": [
        {
          "name": "stderr",
          "output_type": "stream",
          "text": [
            "UsageError: %%sql is a cell magic, but the cell body is empty. Did you mean the line magic %sql (single %)?\n"
          ]
        }
      ],
      "source": [
        "%%sql"
      ]
    },
    {
      "cell_type": "markdown",
      "metadata": {
        "id": "3ToOJR4tOzAZ",
        "jp-MarkdownHeadingCollapsed": true
      },
      "source": [
        "### Entity Relationship Diagram (Optional)\n",
        "\n",
        "After doing some detective work and finding the tables in the Police Department database, you discover that there is an ERD! This can be really helpful in your quest to find the murderer. If you like, challenge yourself (and your SQL skills) to continue on by just querying the `information_schema` as needed. Otherwise, you can click the dropdown below to reveal the ERD to help you see the tables and relationships in the Police Department database at a glance:\n",
        "\n",
        "<details>\n",
        "  <summary>Check the SQL Murder Mystery ERD</summary>\n",
        "  <img src=\"https://github.com/freestackinitiative/coop_sql_notebooks/blob/main/assets/murder_mystery_schema.png?raw=1\" alt=\"ERD for SQL Murder Mystery\"/>\n",
        "</details>"
      ]
    },
    {
      "cell_type": "markdown",
      "metadata": {
        "id": "pfF208KjOzAZ"
      },
      "source": [
        "### Diagrama de Relaciones de Entidad (Opcional)\n",
        "\n",
        "Después de hacer un poco de trabajo de detective y encontrar las tablas en la base de datos del Departamento de Policía, descubres que hay un ERD (Diagrama de Relaciones de Entidad). Esto puede ser realmente útil en tu búsqueda para encontrar al asesino. Si lo prefieres, desafíate a ti mismo (y tus habilidades en SQL) a continuar solo consultando el `information_schema` según sea necesario. De lo contrario, puedes hacer clic en el desplegable a continuación para revelar el ERD que te ayudará a ver las tablas y las relaciones en la base de datos del Departamento de Policía de un vistazo:\n",
        "\n",
        "<details>\n",
        "  <summary>Revisa el ERD del SQL Murder Mystery</summary>\n",
        "  <img src=\"https://github.com/freestackinitiative/coop_sql_notebooks/blob/main/assets/murder_mystery_schema.png?raw=1\" alt=\"ERD for SQL Murder Mystery\"/>\n",
        "</details>"
      ]
    },
    {
      "cell_type": "code",
      "execution_count": null,
      "metadata": {
        "id": "FE2LsH-kOzAZ"
      },
      "outputs": [],
      "source": [
        "%%sql"
      ]
    },
    {
      "cell_type": "markdown",
      "metadata": {
        "id": "MrEIHCo9OzAZ"
      },
      "source": [
        "___"
      ]
    },
    {
      "cell_type": "markdown",
      "metadata": {
        "id": "3BmdFTHbOzAZ"
      },
      "source": [
        "## Resolviendo el Misterio (y verificando si resolviste el caso)\n",
        "\n",
        "De aquí en adelante, usarás tus habilidades y las pistas en la base de datos del Departamento de Policía para encontrar al asesino. Cuando creas que has encontrado al asesino, vuelve a esta sección y usa la celda de abajo para verificar tu respuesta y ver si encontraste al asesino:\n",
        "\n",
        "ejemplo:\n",
        "```python\n",
        "check_suspect(\"Adam Levine\")\n",
        "```"
      ]
    },
    {
      "cell_type": "code",
      "execution_count": null,
      "metadata": {
        "id": "_8qZLQ47OzAZ"
      },
      "outputs": [],
      "source": [
        "check_suspect(\"Write the suspected murderer's full name here\")"
      ]
    },
    {
      "cell_type": "markdown",
      "metadata": {
        "id": "GBfSxW1EOzAZ"
      },
      "source": [
        "---"
      ]
    },
    {
      "cell_type": "markdown",
      "metadata": {
        "id": "Sh4HZSncOzAZ"
      },
      "source": [
        "## Espacio de Trabajo\n",
        "\n",
        "Usa las celdas de abajo para escribir tus consultas y trabajar en resolver el misterio. Cuando tengas un sospechoso, verifica tu respuesta usando la [celda arriba de esta](#solving-the-mystery-and-checking-if-you-cracked-the-case) y ejecuta su nombre a través de la función `check_suspect`. Si encuentras al asesino, la función te lo dirá.\n",
        "\n",
        "No olvides usar `%%sql` en la parte superior de las celdas de `Code` que crees para que tus consultas SQL funcionen. ¡Buena suerte, detectives!"
      ]
    },
    {
      "cell_type": "code",
      "execution_count": null,
      "metadata": {
        "id": "-n-r--3aOzAZ"
      },
      "outputs": [],
      "source": [
        "%%sql\n"
      ]
    }
  ],
  "metadata": {
    "colab": {
      "provenance": [],
      "toc_visible": true,
      "include_colab_link": true
    },
    "kernelspec": {
      "display_name": "Python 3 (ipykernel)",
      "language": "python",
      "name": "python3"
    },
    "language_info": {
      "codemirror_mode": {
        "name": "ipython",
        "version": 3
      },
      "file_extension": ".py",
      "mimetype": "text/x-python",
      "name": "python",
      "nbconvert_exporter": "python",
      "pygments_lexer": "ipython3",
      "version": "3.12.3"
    }
  },
  "nbformat": 4,
  "nbformat_minor": 0
}